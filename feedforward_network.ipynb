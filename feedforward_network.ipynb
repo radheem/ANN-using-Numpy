{
 "cells": [
  {
   "cell_type": "code",
   "execution_count": 1,
   "metadata": {},
   "outputs": [],
   "source": [
    "import numpy as np\n",
    "import matplotlib.pylab as plt\n",
    "from sklearn.preprocessing import OneHotEncoder"
   ]
  },
  {
   "cell_type": "code",
   "execution_count": null,
   "metadata": {},
   "outputs": [],
   "source": [
    "def preprocessing_dense(train_x, train_y, test_x, test_y):\n",
    "    # data Normalization\n",
    "    train_x = train_x / 255.\n",
    "    test_x = test_x / 255.\n",
    "    \n",
    "    # one hot encoding the train and test labels\n",
    "    enc = OneHotEncoder(sparse=False, categories='auto')\n",
    "    train_y = enc.fit_transform(train_y.reshape(len(train_y), -1))\n",
    "    test_y = enc.transform(test_y.reshape(len(test_y), -1))\n",
    "    \n",
    "    #dividing the data into batches\n",
    "    m_x,l_x = train_x.shape\n",
    "    m_y,l_y = train_y.shape\n",
    "    train_x = train_x.reshape(60,int(m_x/60),l_x)\n",
    "    test_x = test_x.reshape(60,int(m_x/60),l_x)\n",
    "    train_y = train_y.reshape(60,int(m_y/60),l_y)\n",
    "    test_y = test_y.reshape(60,int(m_y/60),l_y)\n",
    " \n",
    "    return train_x, train_y, test_x, test_y\n"
   ]
  },
  {
   "cell_type": "code",
   "execution_count": null,
   "metadata": {},
   "outputs": [],
   "source": [
    "def sigmoid(Z): #sigmoid activation\n",
    "    return 1 / (1 + np.exp(-Z))\n",
    "def softmax(Z):  #softmax activation\n",
    "    expZ = np.exp(Z - np.max(Z))\n",
    "    return expZ / expZ.sum(axis=0, keepdims=True)\n",
    "def sigmoid_derivative(Z):  #sigmoid activation derivative\n",
    "    s = 1 / (1 + np.exp(-Z))\n",
    "    return s * (1 - s)\n",
    "def relu(Z):  #relu activation\n",
    "    return np.maximum(0,Z)\n",
    "def relu_derivative(Z):  #relu activation derivative\n",
    "    a= relu(Z)\n",
    "    a[a>0] = 1\n",
    "    a[a<0] = 0\n",
    "    return a\n"
   ]
  },
  {
   "cell_type": "code",
   "execution_count": 4,
   "metadata": {},
   "outputs": [],
   "source": [
    "class Dense:\n",
    "    def __init__(self, dense_architecture): # fully connected network constructor \n",
    "        self.dense_architecture = list(dense_architecture) # passing the the architecture\n",
    "        self.parameters = self.init_params(self.dense_architecture) # intializing parameters according to the structure\n",
    "        self.cost_hist = []\n",
    "        self.acc_hist = []\n",
    " \n",
    "    def init_params(self,dense_architecture):\n",
    "        np.random.seed(2) # fixing seed to avoid complete randomness\n",
    "        \n",
    "        params = {} #dictionary for weights and biases\n",
    "        \n",
    "        for i, layer in enumerate(dense_architecture): #looping over architecture list to initiate parameters\n",
    "            idx = i + 1  # we begin W and b from 1 because  layer0= input_layer \n",
    "            \n",
    "            #picking W and b matrix dims from architecture\n",
    "            layer_input_size = layer[\"input_dim\"]\n",
    "            layer_output_size = layer[\"output_dim\"]\n",
    "            \n",
    "           #initiating the values of the W matrix and b with random values and normalizing them\n",
    "            params['W' + str(idx)] = np.random.randn(layer_output_size, layer_input_size) * 0.01 #keeping parameters small\n",
    "            params['b' + str(idx)] = np.random.randn(layer_output_size, 1) *0.01\n",
    "        return params\n",
    "    def forward_step(self,W,X,b,activation):\n",
    "        Z = W.dot(X)+b #linear feed forward step \n",
    "        if activation == \"relu\":\n",
    "            A = relu(Z) # applying activation\n",
    "        elif activation == \"sigmoid\":\n",
    "            A= sigmoid(Z) # applying activation\n",
    "        elif activation == \"softmax\":\n",
    "            A = softmax(Z) # applying activation\n",
    "        else: \n",
    "            print(\"this activation is not supported\")\n",
    "        return A,Z\n",
    " \n",
    "    def forward(self, X):\n",
    "        cache = {}\n",
    " \n",
    "        A = X.T\n",
    "        for i,layer in enumerate(self.dense_architecture):\n",
    "            W = self.parameters[\"W\" + str(i + 1)] #fetching paramters for a specific layer from paramters dictionary \n",
    "            b = self.parameters[\"b\" + str(i + 1)]\n",
    "            activation = layer[\"activation\"]\n",
    "            A , Z = self.forward_step(W,A,b,activation) #performing the feeed forward step\n",
    "            # saving results and inputs for back propagation\n",
    "            cache[\"A\" + str(i + 1)] = A\n",
    "            cache[\"W\" + str(i + 1)] = self.parameters[\"W\" + str(i + 1)]\n",
    "            cache[\"Z\" + str(i + 1)] = Z\n",
    " \n",
    "        return A, cache\n",
    " \n",
    "    def log_loss(self,Y,Y_hat): # log loss cost function\n",
    "        return -np.mean(Y * np.log(Y_hat.T+ 1e-8))\n",
    "    def log_loss_derivative(self,Y,Y_hat,A_prev,W): # log loss cost derivative with respect to softmax\n",
    "        m= Y.shape[0]\n",
    "        dZ = Y_hat - Y.T\n",
    " \n",
    "        dW = dZ.dot(A_prev.T) / m\n",
    "        db = np.sum(dZ, axis=1, keepdims=True) / m\n",
    "        dA_prev = W.T.dot(dZ)\n",
    "        return dA_prev,dW,db\n",
    "    \n",
    "    def backward(self, X, Y, cache): #backpropagation\n",
    "        m = X.shape[0]\n",
    "        gradients = {}\n",
    " \n",
    "        cache[\"A0\"] = X.T\n",
    " \n",
    "        Y_hat = cache[\"A\" + str(len(self.dense_architecture))]\n",
    "        A_prev = cache[\"A\" + str(len(self.dense_architecture) - 1)]\n",
    "        W = cache[\"W\" + str(len(self.dense_architecture))]\n",
    "        dA_prev, dW,db = self.log_loss_derivative(Y,Y_hat,A_prev,W)\n",
    " \n",
    "        gradients[\"dW\" + str(len(self.dense_architecture))] = dW\n",
    "        gradients[\"db\" + str(len(self.dense_architecture))] = db\n",
    "        archi= list(reversed(self.dense_architecture))\n",
    "        archi.pop(0)\n",
    "        for l,layer in enumerate(archi):\n",
    "            i= len(archi)-l\n",
    "            if layer[\"activation\"] == \"sigmoid\":\n",
    "                dZ = dA_prev * sigmoid_derivative(cache[\"Z\" + str(i)])\n",
    "            elif layer[\"activation\"] == \"relu\":\n",
    "                dZ = dA_prev * relu_derivative(cache[\"Z\" + str(i)])\n",
    "            else:\n",
    "                print(\"unknown derivative\")\n",
    "            dW = (1/ m) * dZ.dot(cache[\"A\" + str(i - 1)].T)\n",
    "            db = (1/ m) * np.sum(dZ, axis=1, keepdims=True)\n",
    "            dA_prev = cache[\"W\" + str(i)].T.dot(dZ)\n",
    " \n",
    "            gradients[\"dW\" + str(i)] = dW\n",
    "            gradients[\"db\" + str(i)] = db\n",
    " \n",
    "        return gradients,dA_prev\n",
    " \n",
    "    def update(self,derivatives,lr): # updating parameteres according to learning rate and gradients\n",
    "        for l in range(1, len(self.dense_architecture) + 1):\n",
    "            self.parameters[\"W\" + str(l)] = self.parameters[\"W\" + str(l)] - lr * derivatives[\"dW\" + str(l)]\n",
    "            self.parameters[\"b\" + str(l)] = self.parameters[\"b\" + str(l)] - lr * derivatives[\"db\" + str(l)]\n",
    "            \n",
    "    def train(self, X, Y, n_iterations=2500,lr=0.01,disp = False): #independent train function for fully connected layers\n",
    "        for ep in range(n_iterations):\n",
    "            m = ep%60 #selecting batch\n",
    "            Y_hat, cache = self.forward(X[m]) #forward propagation\n",
    "            cost = self.log_loss(Y[m],Y_hat)\n",
    "            derivatives,dA_prev = self.backward(X[m], Y[m], cache) #back propagation\n",
    "            self.update(derivatives,lr) #updating parameters\n",
    "            acc = self.accuracy(Y[m], Y_hat) # checki accuracy by comparing Y_hat and labels \n",
    "            self.acc_hist.append(acc) # maintaining cost and accuracy history\n",
    "            self.cost_hist.append(cost)\n",
    "            if ep % 10 == 0 and disp == True:\n",
    "                print(\"epoch: \",ep,\" Cost: \", cost, \" Train Accuracy:\", acc)\n",
    "            \n",
    "        \n",
    "        return dA_prev,self.cost_hist,self.acc_hist\n",
    "    def dtrain(self, X, Y,lr):# train function utility for CNN one flow through fully connected layers\n",
    "        Y_hat, cache = self.forward(X)\n",
    "        cost = self.log_loss(Y,Y_hat)\n",
    "        derivatives,dA_prev = self.backward(X, Y, cache)\n",
    "        self.update(derivatives,lr)\n",
    "        acc = self.accuracy(Y, Y_hat)\n",
    "        \n",
    "        return dA_prev,cost,acc\n",
    "    def accuracy(self,Y,Y_hat): # measures accuray by comparing y and y_hat\n",
    "        y_hat = np.argmax(Y_hat, axis=0)\n",
    "        Y = np.argmax(Y, axis=1)\n",
    "        accuracy = (y_hat == Y).mean()\n",
    "        return accuracy * 100\n",
    " \n",
    " \n",
    "\n",
    " \n"
   ]
  },
  {
   "cell_type": "code",
   "execution_count": null,
   "metadata": {},
   "outputs": [],
   "source": [
    "\n",
    "def costPlot(cost_hist): #utility to plot cost\n",
    "    plt.figure()\n",
    "    plt.plot(np.arange(len(cost_hist)), cost_hist)\n",
    "    plt.xlabel(\"epochs\")\n",
    "    plt.ylabel(\"cost\")\n",
    "    plt.show()"
   ]
  },
  {
   "cell_type": "markdown",
   "metadata": {},
   "source": [
    "# Main"
   ]
  },
  {
   "cell_type": "code",
   "execution_count": 8,
   "metadata": {},
   "outputs": [],
   "source": [
    "# retriving data\n",
    "from mlxtend.data import loadlocal_mnist\n",
    "X, y = loadlocal_mnist(\n",
    "        images_path='train-images.idx3-ubyte', \n",
    "        labels_path='train-labels.idx1-ubyte')\n",
    "X_test,y_test = loadlocal_mnist(\n",
    "        images_path='t10k-images.idx3-ubyte', \n",
    "        labels_path='t10k-labels.idx1-ubyte')\n"
   ]
  },
  {
   "cell_type": "code",
   "execution_count": 9,
   "metadata": {},
   "outputs": [
    {
     "name": "stdout",
     "output_type": "stream",
     "text": [
      "Populating the interactive namespace from numpy and matplotlib\n"
     ]
    },
    {
     "name": "stderr",
     "output_type": "stream",
     "text": [
      "C:\\Users\\DELL\\Anaconda3\\envs\\tensorflow_env\\lib\\site-packages\\IPython\\core\\magics\\pylab.py:160: UserWarning: pylab import has clobbered these variables: ['plt']\n",
      "`%matplotlib` prevents importing * from pylab and numpy\n",
      "  \"\\n`%matplotlib` prevents importing * from pylab and numpy\"\n"
     ]
    },
    {
     "data": {
      "image/png": "[encoded data removed]",
      "text/plain": [
       "<Figure size 432x288 with 1 Axes>"
      ]
     },
     "metadata": {
      "needs_background": "light"
     },
     "output_type": "display_data"
    }
   ],
   "source": [
    "%pylab inline\n",
    "import matplotlib.pyplot as plt\n",
    "plt.imshow(X[0].reshape(28,28), cmap='gray')\n",
    "plt.show()"
   ]
  },
  {
   "cell_type": "code",
   "execution_count": 10,
   "metadata": {
    "scrolled": true
   },
   "outputs": [
    {
     "name": "stdout",
     "output_type": "stream",
     "text": [
      "above picture represents a:  5\n"
     ]
    }
   ],
   "source": [
    "print(\"above picture represents a: \",y[0])"
   ]
  },
  {
   "cell_type": "markdown",
   "metadata": {},
   "source": [
    "# implementing a simple feed forward forward network on MNIST data "
   ]
  },
  {
   "cell_type": "code",
   "execution_count": 98,
   "metadata": {
    "scrolled": true
   },
   "outputs": [
    {
     "name": "stdout",
     "output_type": "stream",
     "text": [
      "(60000, 784) (60000, 10)\n",
      "train_x's shape: (60, 1000, 784)\n",
      "test_x's shape: (60, 1000, 784)\n"
     ]
    }
   ],
   "source": [
    "train_x = X\n",
    "train_y= y\n",
    "test_x = X_test\n",
    "test_y = y_test\n",
    "train_x, train_y, test_x, test_y = preprocessing_dense(train_x, train_y, test_x, test_y)\n",
    "\n",
    "print(\"train_x's shape: \" + str(train_x.shape))\n",
    "print(\"test_x's shape: \" + str(test_x.shape))"
   ]
  },
  {
   "cell_type": "code",
   "execution_count": 103,
   "metadata": {},
   "outputs": [],
   "source": [
    "dense_architecture=[\n",
    "    {\"input_dim\": 784, \"output_dim\": 50, \"activation\": \"sigmoid\"},\n",
    "        {\"input_dim\": 50, \"output_dim\": 10, \"activation\": \"softmax\"}\n",
    "    ]\n",
    "ann = Dense(dense_architecture)\n",
    "\n",
    "da_prev,cost_hist,acc_hist = ann.train(train_x, train_y, lr=0.1, n_iterations=1000)\n",
    "\n"
   ]
  },
  {
   "cell_type": "code",
   "execution_count": 104,
   "metadata": {},
   "outputs": [
    {
     "data": {
      "image/png": "[encoded data removed]",
      "text/plain": [
       "<Figure size 432x288 with 1 Axes>"
      ]
     },
     "metadata": {
      "needs_background": "light"
     },
     "output_type": "display_data"
    }
   ],
   "source": [
    "costPlot(cost_hist)"
   ]
  },
  {
   "cell_type": "code",
   "execution_count": null,
   "metadata": {},
   "outputs": [],
   "source": []
  }
 ],
 "metadata": {
  "kernelspec": {
   "display_name": "Python 3.7.5 64-bit",
   "language": "python",
   "name": "python37564bit88380ad151a64614b3411a8a1d6791f3"
  },
  "language_info": {
   "codemirror_mode": {
    "name": "ipython",
    "version": 3
   },
   "file_extension": ".py",
   "mimetype": "text/x-python",
   "name": "python",
   "nbconvert_exporter": "python",
   "pygments_lexer": "ipython3",
   "version": "3.7.5"
  }
 },
 "nbformat": 4,
 "nbformat_minor": 2
}
